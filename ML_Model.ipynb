{
 "cells": [
  {
   "cell_type": "markdown",
   "metadata": {},
   "source": [
    "# HOUSE PRICE MACHINE LEARNING MODEL\n",
    "### Description\n",
    "The follow model try to predict the houses price though the sales historical data"
   ]
  },
  {
   "cell_type": "code",
   "execution_count": 1,
   "metadata": {},
   "outputs": [],
   "source": [
    "#Libraries to use\n",
    "import pandas as pd\n",
    "import numpy as np\n",
    "import matplotlib.pyplot as plt\n",
    "import seaborn as sns\n",
    "from scipy import stats\n",
    "\n",
    "from sklearn.metrics import mean_absolute_error\n",
    "from sklearn.metrics import mean_squared_error\n",
    "from sklearn.model_selection import cross_val_score\n",
    "from sklearn.model_selection import cross_val_predict\n",
    "\n",
    "from sklearn.impute import SimpleImputer\n",
    "from sklearn.compose import ColumnTransformer\n",
    "from sklearn.compose import make_column_transformer\n",
    "from sklearn.pipeline import Pipeline\n",
    "from sklearn.pipeline import make_pipeline\n",
    "from sklearn.preprocessing import LabelEncoder\n",
    "from sklearn.preprocessing import OrdinalEncoder\n",
    "from sklearn.preprocessing import OneHotEncoder\n",
    "\n",
    "from sklearn.linear_model import LinearRegression\n",
    "from sklearn.tree import DecisionTreeRegressor\n",
    "from sklearn.ensemble import RandomForestRegressor\n",
    "from sklearn.neighbors import KNeighborsRegressor\n",
    "\n",
    "from sklearn.model_selection import train_test_split"
   ]
  },
  {
   "cell_type": "markdown",
   "metadata": {},
   "source": [
    "##### Read data"
   ]
  },
  {
   "cell_type": "code",
   "execution_count": 2,
   "metadata": {},
   "outputs": [
    {
     "data": {
      "text/html": [
       "<div>\n",
       "<style scoped>\n",
       "    .dataframe tbody tr th:only-of-type {\n",
       "        vertical-align: middle;\n",
       "    }\n",
       "\n",
       "    .dataframe tbody tr th {\n",
       "        vertical-align: top;\n",
       "    }\n",
       "\n",
       "    .dataframe thead th {\n",
       "        text-align: right;\n",
       "    }\n",
       "</style>\n",
       "<table border=\"1\" class=\"dataframe\">\n",
       "  <thead>\n",
       "    <tr style=\"text-align: right;\">\n",
       "      <th></th>\n",
       "      <th>MSSubClass</th>\n",
       "      <th>MSZoning</th>\n",
       "      <th>LotFrontage</th>\n",
       "      <th>LotArea</th>\n",
       "      <th>Street</th>\n",
       "      <th>Alley</th>\n",
       "      <th>LotShape</th>\n",
       "      <th>LandContour</th>\n",
       "      <th>Utilities</th>\n",
       "      <th>LotConfig</th>\n",
       "      <th>...</th>\n",
       "      <th>PoolArea</th>\n",
       "      <th>PoolQC</th>\n",
       "      <th>Fence</th>\n",
       "      <th>MiscFeature</th>\n",
       "      <th>MiscVal</th>\n",
       "      <th>MoSold</th>\n",
       "      <th>YrSold</th>\n",
       "      <th>SaleType</th>\n",
       "      <th>SaleCondition</th>\n",
       "      <th>SalePrice</th>\n",
       "    </tr>\n",
       "    <tr>\n",
       "      <th>Id</th>\n",
       "      <th></th>\n",
       "      <th></th>\n",
       "      <th></th>\n",
       "      <th></th>\n",
       "      <th></th>\n",
       "      <th></th>\n",
       "      <th></th>\n",
       "      <th></th>\n",
       "      <th></th>\n",
       "      <th></th>\n",
       "      <th></th>\n",
       "      <th></th>\n",
       "      <th></th>\n",
       "      <th></th>\n",
       "      <th></th>\n",
       "      <th></th>\n",
       "      <th></th>\n",
       "      <th></th>\n",
       "      <th></th>\n",
       "      <th></th>\n",
       "      <th></th>\n",
       "    </tr>\n",
       "  </thead>\n",
       "  <tbody>\n",
       "    <tr>\n",
       "      <th>1</th>\n",
       "      <td>60</td>\n",
       "      <td>RL</td>\n",
       "      <td>65.0</td>\n",
       "      <td>8450</td>\n",
       "      <td>Pave</td>\n",
       "      <td>NaN</td>\n",
       "      <td>Reg</td>\n",
       "      <td>Lvl</td>\n",
       "      <td>AllPub</td>\n",
       "      <td>Inside</td>\n",
       "      <td>...</td>\n",
       "      <td>0</td>\n",
       "      <td>NaN</td>\n",
       "      <td>NaN</td>\n",
       "      <td>NaN</td>\n",
       "      <td>0</td>\n",
       "      <td>2</td>\n",
       "      <td>2008</td>\n",
       "      <td>WD</td>\n",
       "      <td>Normal</td>\n",
       "      <td>208500</td>\n",
       "    </tr>\n",
       "    <tr>\n",
       "      <th>2</th>\n",
       "      <td>20</td>\n",
       "      <td>RL</td>\n",
       "      <td>80.0</td>\n",
       "      <td>9600</td>\n",
       "      <td>Pave</td>\n",
       "      <td>NaN</td>\n",
       "      <td>Reg</td>\n",
       "      <td>Lvl</td>\n",
       "      <td>AllPub</td>\n",
       "      <td>FR2</td>\n",
       "      <td>...</td>\n",
       "      <td>0</td>\n",
       "      <td>NaN</td>\n",
       "      <td>NaN</td>\n",
       "      <td>NaN</td>\n",
       "      <td>0</td>\n",
       "      <td>5</td>\n",
       "      <td>2007</td>\n",
       "      <td>WD</td>\n",
       "      <td>Normal</td>\n",
       "      <td>181500</td>\n",
       "    </tr>\n",
       "    <tr>\n",
       "      <th>3</th>\n",
       "      <td>60</td>\n",
       "      <td>RL</td>\n",
       "      <td>68.0</td>\n",
       "      <td>11250</td>\n",
       "      <td>Pave</td>\n",
       "      <td>NaN</td>\n",
       "      <td>IR1</td>\n",
       "      <td>Lvl</td>\n",
       "      <td>AllPub</td>\n",
       "      <td>Inside</td>\n",
       "      <td>...</td>\n",
       "      <td>0</td>\n",
       "      <td>NaN</td>\n",
       "      <td>NaN</td>\n",
       "      <td>NaN</td>\n",
       "      <td>0</td>\n",
       "      <td>9</td>\n",
       "      <td>2008</td>\n",
       "      <td>WD</td>\n",
       "      <td>Normal</td>\n",
       "      <td>223500</td>\n",
       "    </tr>\n",
       "    <tr>\n",
       "      <th>4</th>\n",
       "      <td>70</td>\n",
       "      <td>RL</td>\n",
       "      <td>60.0</td>\n",
       "      <td>9550</td>\n",
       "      <td>Pave</td>\n",
       "      <td>NaN</td>\n",
       "      <td>IR1</td>\n",
       "      <td>Lvl</td>\n",
       "      <td>AllPub</td>\n",
       "      <td>Corner</td>\n",
       "      <td>...</td>\n",
       "      <td>0</td>\n",
       "      <td>NaN</td>\n",
       "      <td>NaN</td>\n",
       "      <td>NaN</td>\n",
       "      <td>0</td>\n",
       "      <td>2</td>\n",
       "      <td>2006</td>\n",
       "      <td>WD</td>\n",
       "      <td>Abnorml</td>\n",
       "      <td>140000</td>\n",
       "    </tr>\n",
       "    <tr>\n",
       "      <th>5</th>\n",
       "      <td>60</td>\n",
       "      <td>RL</td>\n",
       "      <td>84.0</td>\n",
       "      <td>14260</td>\n",
       "      <td>Pave</td>\n",
       "      <td>NaN</td>\n",
       "      <td>IR1</td>\n",
       "      <td>Lvl</td>\n",
       "      <td>AllPub</td>\n",
       "      <td>FR2</td>\n",
       "      <td>...</td>\n",
       "      <td>0</td>\n",
       "      <td>NaN</td>\n",
       "      <td>NaN</td>\n",
       "      <td>NaN</td>\n",
       "      <td>0</td>\n",
       "      <td>12</td>\n",
       "      <td>2008</td>\n",
       "      <td>WD</td>\n",
       "      <td>Normal</td>\n",
       "      <td>250000</td>\n",
       "    </tr>\n",
       "  </tbody>\n",
       "</table>\n",
       "<p>5 rows × 80 columns</p>\n",
       "</div>"
      ],
      "text/plain": [
       "    MSSubClass MSZoning  LotFrontage  LotArea Street Alley LotShape  \\\n",
       "Id                                                                    \n",
       "1           60       RL         65.0     8450   Pave   NaN      Reg   \n",
       "2           20       RL         80.0     9600   Pave   NaN      Reg   \n",
       "3           60       RL         68.0    11250   Pave   NaN      IR1   \n",
       "4           70       RL         60.0     9550   Pave   NaN      IR1   \n",
       "5           60       RL         84.0    14260   Pave   NaN      IR1   \n",
       "\n",
       "   LandContour Utilities LotConfig  ... PoolArea PoolQC Fence MiscFeature  \\\n",
       "Id                                  ...                                     \n",
       "1          Lvl    AllPub    Inside  ...        0    NaN   NaN         NaN   \n",
       "2          Lvl    AllPub       FR2  ...        0    NaN   NaN         NaN   \n",
       "3          Lvl    AllPub    Inside  ...        0    NaN   NaN         NaN   \n",
       "4          Lvl    AllPub    Corner  ...        0    NaN   NaN         NaN   \n",
       "5          Lvl    AllPub       FR2  ...        0    NaN   NaN         NaN   \n",
       "\n",
       "   MiscVal MoSold  YrSold  SaleType  SaleCondition  SalePrice  \n",
       "Id                                                             \n",
       "1        0      2    2008        WD         Normal     208500  \n",
       "2        0      5    2007        WD         Normal     181500  \n",
       "3        0      9    2008        WD         Normal     223500  \n",
       "4        0      2    2006        WD        Abnorml     140000  \n",
       "5        0     12    2008        WD         Normal     250000  \n",
       "\n",
       "[5 rows x 80 columns]"
      ]
     },
     "execution_count": 2,
     "metadata": {},
     "output_type": "execute_result"
    }
   ],
   "source": [
    "train = pd.read_csv('train.csv',index_col='Id')\n",
    "train.head()"
   ]
  },
  {
   "cell_type": "code",
   "execution_count": 3,
   "metadata": {},
   "outputs": [
    {
     "data": {
      "text/plain": [
       "(1460, 80)"
      ]
     },
     "execution_count": 3,
     "metadata": {},
     "output_type": "execute_result"
    }
   ],
   "source": [
    "train.shape"
   ]
  },
  {
   "cell_type": "code",
   "execution_count": 4,
   "metadata": {},
   "outputs": [
    {
     "data": {
      "text/html": [
       "<div>\n",
       "<style scoped>\n",
       "    .dataframe tbody tr th:only-of-type {\n",
       "        vertical-align: middle;\n",
       "    }\n",
       "\n",
       "    .dataframe tbody tr th {\n",
       "        vertical-align: top;\n",
       "    }\n",
       "\n",
       "    .dataframe thead th {\n",
       "        text-align: right;\n",
       "    }\n",
       "</style>\n",
       "<table border=\"1\" class=\"dataframe\">\n",
       "  <thead>\n",
       "    <tr style=\"text-align: right;\">\n",
       "      <th></th>\n",
       "      <th>MSSubClass</th>\n",
       "      <th>MSZoning</th>\n",
       "      <th>LotFrontage</th>\n",
       "      <th>LotArea</th>\n",
       "      <th>Street</th>\n",
       "      <th>Alley</th>\n",
       "      <th>LotShape</th>\n",
       "      <th>LandContour</th>\n",
       "      <th>Utilities</th>\n",
       "      <th>LotConfig</th>\n",
       "      <th>...</th>\n",
       "      <th>ScreenPorch</th>\n",
       "      <th>PoolArea</th>\n",
       "      <th>PoolQC</th>\n",
       "      <th>Fence</th>\n",
       "      <th>MiscFeature</th>\n",
       "      <th>MiscVal</th>\n",
       "      <th>MoSold</th>\n",
       "      <th>YrSold</th>\n",
       "      <th>SaleType</th>\n",
       "      <th>SaleCondition</th>\n",
       "    </tr>\n",
       "    <tr>\n",
       "      <th>Id</th>\n",
       "      <th></th>\n",
       "      <th></th>\n",
       "      <th></th>\n",
       "      <th></th>\n",
       "      <th></th>\n",
       "      <th></th>\n",
       "      <th></th>\n",
       "      <th></th>\n",
       "      <th></th>\n",
       "      <th></th>\n",
       "      <th></th>\n",
       "      <th></th>\n",
       "      <th></th>\n",
       "      <th></th>\n",
       "      <th></th>\n",
       "      <th></th>\n",
       "      <th></th>\n",
       "      <th></th>\n",
       "      <th></th>\n",
       "      <th></th>\n",
       "      <th></th>\n",
       "    </tr>\n",
       "  </thead>\n",
       "  <tbody>\n",
       "    <tr>\n",
       "      <th>1461</th>\n",
       "      <td>20</td>\n",
       "      <td>RH</td>\n",
       "      <td>80.0</td>\n",
       "      <td>11622</td>\n",
       "      <td>Pave</td>\n",
       "      <td>NaN</td>\n",
       "      <td>Reg</td>\n",
       "      <td>Lvl</td>\n",
       "      <td>AllPub</td>\n",
       "      <td>Inside</td>\n",
       "      <td>...</td>\n",
       "      <td>120</td>\n",
       "      <td>0</td>\n",
       "      <td>NaN</td>\n",
       "      <td>MnPrv</td>\n",
       "      <td>NaN</td>\n",
       "      <td>0</td>\n",
       "      <td>6</td>\n",
       "      <td>2010</td>\n",
       "      <td>WD</td>\n",
       "      <td>Normal</td>\n",
       "    </tr>\n",
       "    <tr>\n",
       "      <th>1462</th>\n",
       "      <td>20</td>\n",
       "      <td>RL</td>\n",
       "      <td>81.0</td>\n",
       "      <td>14267</td>\n",
       "      <td>Pave</td>\n",
       "      <td>NaN</td>\n",
       "      <td>IR1</td>\n",
       "      <td>Lvl</td>\n",
       "      <td>AllPub</td>\n",
       "      <td>Corner</td>\n",
       "      <td>...</td>\n",
       "      <td>0</td>\n",
       "      <td>0</td>\n",
       "      <td>NaN</td>\n",
       "      <td>NaN</td>\n",
       "      <td>Gar2</td>\n",
       "      <td>12500</td>\n",
       "      <td>6</td>\n",
       "      <td>2010</td>\n",
       "      <td>WD</td>\n",
       "      <td>Normal</td>\n",
       "    </tr>\n",
       "    <tr>\n",
       "      <th>1463</th>\n",
       "      <td>60</td>\n",
       "      <td>RL</td>\n",
       "      <td>74.0</td>\n",
       "      <td>13830</td>\n",
       "      <td>Pave</td>\n",
       "      <td>NaN</td>\n",
       "      <td>IR1</td>\n",
       "      <td>Lvl</td>\n",
       "      <td>AllPub</td>\n",
       "      <td>Inside</td>\n",
       "      <td>...</td>\n",
       "      <td>0</td>\n",
       "      <td>0</td>\n",
       "      <td>NaN</td>\n",
       "      <td>MnPrv</td>\n",
       "      <td>NaN</td>\n",
       "      <td>0</td>\n",
       "      <td>3</td>\n",
       "      <td>2010</td>\n",
       "      <td>WD</td>\n",
       "      <td>Normal</td>\n",
       "    </tr>\n",
       "    <tr>\n",
       "      <th>1464</th>\n",
       "      <td>60</td>\n",
       "      <td>RL</td>\n",
       "      <td>78.0</td>\n",
       "      <td>9978</td>\n",
       "      <td>Pave</td>\n",
       "      <td>NaN</td>\n",
       "      <td>IR1</td>\n",
       "      <td>Lvl</td>\n",
       "      <td>AllPub</td>\n",
       "      <td>Inside</td>\n",
       "      <td>...</td>\n",
       "      <td>0</td>\n",
       "      <td>0</td>\n",
       "      <td>NaN</td>\n",
       "      <td>NaN</td>\n",
       "      <td>NaN</td>\n",
       "      <td>0</td>\n",
       "      <td>6</td>\n",
       "      <td>2010</td>\n",
       "      <td>WD</td>\n",
       "      <td>Normal</td>\n",
       "    </tr>\n",
       "    <tr>\n",
       "      <th>1465</th>\n",
       "      <td>120</td>\n",
       "      <td>RL</td>\n",
       "      <td>43.0</td>\n",
       "      <td>5005</td>\n",
       "      <td>Pave</td>\n",
       "      <td>NaN</td>\n",
       "      <td>IR1</td>\n",
       "      <td>HLS</td>\n",
       "      <td>AllPub</td>\n",
       "      <td>Inside</td>\n",
       "      <td>...</td>\n",
       "      <td>144</td>\n",
       "      <td>0</td>\n",
       "      <td>NaN</td>\n",
       "      <td>NaN</td>\n",
       "      <td>NaN</td>\n",
       "      <td>0</td>\n",
       "      <td>1</td>\n",
       "      <td>2010</td>\n",
       "      <td>WD</td>\n",
       "      <td>Normal</td>\n",
       "    </tr>\n",
       "  </tbody>\n",
       "</table>\n",
       "<p>5 rows × 79 columns</p>\n",
       "</div>"
      ],
      "text/plain": [
       "      MSSubClass MSZoning  LotFrontage  LotArea Street Alley LotShape  \\\n",
       "Id                                                                      \n",
       "1461          20       RH         80.0    11622   Pave   NaN      Reg   \n",
       "1462          20       RL         81.0    14267   Pave   NaN      IR1   \n",
       "1463          60       RL         74.0    13830   Pave   NaN      IR1   \n",
       "1464          60       RL         78.0     9978   Pave   NaN      IR1   \n",
       "1465         120       RL         43.0     5005   Pave   NaN      IR1   \n",
       "\n",
       "     LandContour Utilities LotConfig  ... ScreenPorch PoolArea PoolQC  Fence  \\\n",
       "Id                                    ...                                      \n",
       "1461         Lvl    AllPub    Inside  ...         120        0    NaN  MnPrv   \n",
       "1462         Lvl    AllPub    Corner  ...           0        0    NaN    NaN   \n",
       "1463         Lvl    AllPub    Inside  ...           0        0    NaN  MnPrv   \n",
       "1464         Lvl    AllPub    Inside  ...           0        0    NaN    NaN   \n",
       "1465         HLS    AllPub    Inside  ...         144        0    NaN    NaN   \n",
       "\n",
       "     MiscFeature MiscVal  MoSold  YrSold  SaleType  SaleCondition  \n",
       "Id                                                                 \n",
       "1461         NaN       0       6    2010        WD         Normal  \n",
       "1462        Gar2   12500       6    2010        WD         Normal  \n",
       "1463         NaN       0       3    2010        WD         Normal  \n",
       "1464         NaN       0       6    2010        WD         Normal  \n",
       "1465         NaN       0       1    2010        WD         Normal  \n",
       "\n",
       "[5 rows x 79 columns]"
      ]
     },
     "execution_count": 4,
     "metadata": {},
     "output_type": "execute_result"
    }
   ],
   "source": [
    "test = pd.read_csv('test.csv',index_col='Id')\n",
    "test.head()"
   ]
  },
  {
   "cell_type": "code",
   "execution_count": 5,
   "metadata": {},
   "outputs": [
    {
     "data": {
      "text/plain": [
       "(1459, 79)"
      ]
     },
     "execution_count": 5,
     "metadata": {},
     "output_type": "execute_result"
    }
   ],
   "source": [
    "test.shape"
   ]
  },
  {
   "cell_type": "code",
   "execution_count": 6,
   "metadata": {},
   "outputs": [
    {
     "name": "stdout",
     "output_type": "stream",
     "text": [
      "(1460, 79)\n",
      "(1460,)\n",
      "<class 'pandas.core.frame.DataFrame'>\n",
      "<class 'pandas.core.series.Series'>\n"
     ]
    }
   ],
   "source": [
    "#SEPARATE Y (RESPONSE) OF TRAIN DATAFRAME\n",
    "\n",
    "#Drop rows with null values on SalePrice (y)\n",
    "train.dropna(subset=['SalePrice'],axis = 0, inplace = True)\n",
    "\n",
    "#Assing SalePrice to Y variable and drop from train dataset\n",
    "y = train.SalePrice\n",
    "train.drop(['SalePrice'],axis = 1, inplace = True)\n",
    "\n",
    "#Verify that the shape in both dataset have same rows\n",
    "print(train.shape) \n",
    "print(y.shape)\n",
    "\n",
    "#Notice that train (X) is a pandas DataFrame and Y is a pandas Series\n",
    "print(type(train))\n",
    "print(type(y))"
   ]
  },
  {
   "cell_type": "markdown",
   "metadata": {},
   "source": [
    "### Visual analysis"
   ]
  },
  {
   "cell_type": "code",
   "execution_count": 7,
   "metadata": {},
   "outputs": [
    {
     "data": {
      "image/png": "[encoded data removed]",
      "text/plain": [
       "<Figure size 432x288 with 1 Axes>"
      ]
     },
     "metadata": {
      "needs_background": "light"
     },
     "output_type": "display_data"
    }
   ],
   "source": [
    "#Null values higher than 100\n",
    "column_name = [col for col in train.columns if train[col].isnull().sum() > 100]\n",
    "n_null_value = [train[col].isnull().sum() for col in column_name]\n",
    "\n",
    "plt.bar(column_name,n_null_value)\n",
    "plt.title('Null values higher than 100')\n",
    "plt.xlabel('Feature')\n",
    "plt.ylabel('# Null values')\n",
    "plt.xticks(rotation = 90)\n",
    "plt.show()"
   ]
  },
  {
   "cell_type": "code",
   "execution_count": 8,
   "metadata": {},
   "outputs": [
    {
     "name": "stdout",
     "output_type": "stream",
     "text": [
      "(1460, 73)\n",
      "(1459, 73)\n"
     ]
    }
   ],
   "source": [
    "#Delate fetures with more than 100 null values\n",
    "train.drop(column_name, axis = 1, inplace = True)\n",
    "test.drop(column_name, axis = 1, inplace = True)\n",
    "print(train.shape)\n",
    "print(test.shape)"
   ]
  },
  {
   "cell_type": "code",
   "execution_count": 9,
   "metadata": {},
   "outputs": [
    {
     "data": {
      "image/png": "[encoded data removed]",
      "text/plain": [
       "<Figure size 432x288 with 2 Axes>"
      ]
     },
     "metadata": {
      "needs_background": "light"
     },
     "output_type": "display_data"
    }
   ],
   "source": [
    "#Separete categorical and numerical data and missing values\n",
    "numerical_cols = [col for col in train.columns if train[col].dtypes in ('int','float')]\n",
    "numerical_missing_cols = [col for col in numerical_cols if train[col].isnull().sum() > 0 or test[col].isnull().sum() > 0]\n",
    "\n",
    "categorical_cols = [col for col in train.columns if train[col].dtypes == 'object']\n",
    "categorical_missing_cols = [col for col in categorical_cols if train[col].isnull().sum() > 0 or test[col].isnull().sum() > 0]\n",
    "\n",
    "fig, (ax1, ax2) = plt.subplots(1, 2)\n",
    "fig.suptitle('Missing values')\n",
    "ax1.bar(numerical_missing_cols, [train[col].isnull().sum() for col in numerical_missing_cols],color = 'y')\n",
    "ax1.tick_params(axis = 'x',rotation = 90)\n",
    "ax2.bar(categorical_missing_cols, [train[col].isnull().sum() for col in categorical_missing_cols],color = 'g')\n",
    "ax2.tick_params(axis = 'x',rotation = 90)"
   ]
  },
  {
   "cell_type": "markdown",
   "metadata": {},
   "source": [
    "- For garage missing values indicate that house doesn't have one, so it can be replace by 0 for numerical columns and 'NA' for categorical columns\n",
    "- For basement missing values indicate that house doesn't have one\n"
   ]
  },
  {
   "cell_type": "code",
   "execution_count": 10,
   "metadata": {},
   "outputs": [],
   "source": [
    "num_col_replace_by_0 = ['GarageYrBlt']\n",
    "num_col_replace_by_mean = [col for col in numerical_missing_cols if col not in num_col_replace_by_0]\n",
    "cat_col_replace_by_MF = [col for col in categorical_cols if set(train[col]) != set(test[col])]\n",
    "cat_col_replace_by_NA = [col for col in categorical_cols if col not in cat_col_replace_by_MF]"
   ]
  },
  {
   "cell_type": "code",
   "execution_count": 11,
   "metadata": {},
   "outputs": [],
   "source": [
    "#separate categorical data in cardinal and not cardinal order\n",
    "categorical_cols_ord = ['LotShape','LandContour','Utilities','LandSlope','ExterQual',\n",
    "                        'ExterCond','BsmtQual','BsmtCond','BsmtExposure','BsmtFinType1',\n",
    "                        'BsmtFinType2','HeatingQC','CentralAir','KitchenQual','GarageFinish',\n",
    "                        'GarageQual','GarageCond','PavedDrive']\n",
    "categorias = (['IR3','IR2','IR1','Reg'],\n",
    "              ['Low','HLS','Bnk','Lvl'],\n",
    "              ['ELO','NoSeWa','NoSeWr','AllPub'],\n",
    "              ['Sev','Mod','Gtl'],\n",
    "              ['Po','Fa','TA','Gd','Ex'],\n",
    "              ['Po','Fa','TA','Gd','Ex'],\n",
    "              ['NA','Po','Fa','TA','Gd','Ex'],\n",
    "              ['NA','Po','Fa','TA','Gd','Ex'],\n",
    "              ['NA','No','Mn','Av','Gd'],\n",
    "              ['NA','Unf','LwQ','Rec','BLQ','ALQ','GLQ'],\n",
    "              ['NA','Unf','LwQ','Rec','BLQ','ALQ','GLQ'],\n",
    "              ['Po','Fa','TA','Gd','Ex'],\n",
    "              ['N','Y'],\n",
    "              ['Po','Fa','TA','Gd','Ex'],\n",
    "              ['NA','Unf','RFn','Fin'],\n",
    "              ['NA','Po','Fa','TA','Gd','Ex'],\n",
    "              ['NA','Po','Fa','TA','Gd','Ex'],\n",
    "              ['N','P','Y'])\n",
    "              \n",
    "categorical_cols_not_ord = [col for col in categorical_cols if col not in categorical_cols_ord]"
   ]
  },
  {
   "cell_type": "markdown",
   "metadata": {},
   "source": [
    "### Pre-processing (manually)\n"
   ]
  },
  {
   "cell_type": "markdown",
   "metadata": {},
   "source": [
    "##### For numerical data"
   ]
  },
  {
   "cell_type": "code",
   "execution_count": 12,
   "metadata": {},
   "outputs": [],
   "source": [
    "#fill missing values for numerical data\n",
    "imputer_0 = SimpleImputer(strategy= 'constant',fill_value=0)\n",
    "imputer_mean = SimpleImputer(strategy= 'mean')\n",
    "\n",
    "imputed_num_train_0 = pd.DataFrame(imputer_0.fit_transform(train[num_col_replace_by_0]))\n",
    "imputed_num_train_mean = pd.DataFrame(imputer_mean.fit_transform(train[num_col_replace_by_mean]))\n",
    "imputed_num_test_0 = pd.DataFrame(imputer_0.fit_transform(test[num_col_replace_by_0]))\n",
    "imputed_num_test_mean = pd.DataFrame(imputer_mean.fit_transform(test[num_col_replace_by_mean]))\n",
    "\n",
    "imputed_num_train_0.columns = num_col_replace_by_0\n",
    "imputed_num_train_mean.columns = num_col_replace_by_mean\n",
    "imputed_num_test_0.columns = num_col_replace_by_0\n",
    "imputed_num_test_mean.columns = num_col_replace_by_mean"
   ]
  },
  {
   "cell_type": "markdown",
   "metadata": {},
   "source": [
    "##### For categorical data"
   ]
  },
  {
   "cell_type": "code",
   "execution_count": 13,
   "metadata": {},
   "outputs": [
    {
     "name": "stdout",
     "output_type": "stream",
     "text": [
      "0\n",
      "0\n"
     ]
    }
   ],
   "source": [
    "#fill missing values for categorical data\n",
    "imputer_NA = SimpleImputer(strategy= 'constant',fill_value='NA')\n",
    "imputer_MF = SimpleImputer(strategy= 'most_frequent')\n",
    "\n",
    "imputed_cat_train_NA = pd.DataFrame(imputer_NA.fit_transform(train[cat_col_replace_by_NA]))\n",
    "imputed_cat_train_MF = pd.DataFrame(imputer_MF.fit_transform(train[cat_col_replace_by_MF]))\n",
    "imputed_cat_test_NA = pd.DataFrame(imputer_NA.transform(test[cat_col_replace_by_NA]))\n",
    "imputed_cat_test_MF = pd.DataFrame(imputer_MF.transform(test[cat_col_replace_by_MF]))\n",
    "\n",
    "imputed_cat_train_NA.columns = cat_col_replace_by_NA\n",
    "imputed_cat_train_MF.columns = cat_col_replace_by_MF\n",
    "imputed_cat_test_NA.columns = cat_col_replace_by_NA\n",
    "imputed_cat_test_MF.columns = cat_col_replace_by_MF\n",
    "\n",
    "print(imputed_cat_test_MF.isna().sum().sum())\n",
    "print(imputed_cat_test_NA.isna().sum().sum())"
   ]
  },
  {
   "cell_type": "code",
   "execution_count": 14,
   "metadata": {},
   "outputs": [
    {
     "name": "stdout",
     "output_type": "stream",
     "text": [
      "(1460, 73)\n",
      "(1459, 73)\n"
     ]
    }
   ],
   "source": [
    "#Replace in X_train dataset\n",
    "drop_train = train.drop(list(numerical_missing_cols)+list(categorical_cols),axis = 1)\n",
    "drop_test = test.drop(list(numerical_missing_cols)+list(categorical_cols),axis = 1)\n",
    "\n",
    "new_train = pd.concat([drop_train.reset_index(),imputed_num_train_0,imputed_num_train_mean,imputed_cat_train_MF,imputed_cat_train_NA],axis = 1)\n",
    "new_test = pd.concat([drop_test.reset_index(),imputed_num_test_0,imputed_num_test_mean,imputed_cat_test_MF,imputed_cat_test_NA],axis = 1)\n",
    "\n",
    "new_train.set_index('Id',inplace = True)\n",
    "new_test.set_index('Id',inplace = True)\n",
    "\n",
    "#New dataframe without null values\n",
    "print(new_train.shape)\n",
    "print(new_test.shape)"
   ]
  },
  {
   "cell_type": "code",
   "execution_count": 15,
   "metadata": {},
   "outputs": [
    {
     "name": "stdout",
     "output_type": "stream",
     "text": [
      "(1460, 18)\n",
      "(1459, 163)\n"
     ]
    }
   ],
   "source": [
    "OH_encoder = OneHotEncoder(handle_unknown='ignore', sparse=False)\n",
    "\n",
    "l_train = new_train[categorical_cols_ord].copy()\n",
    "l_test = new_test[categorical_cols_ord].copy()\n",
    "\n",
    "for i,col in enumerate(categorical_cols_ord):\n",
    "    ord_encoder = OrdinalEncoder(categories = {0:categorias[i]})\n",
    "    l_train[col] = ord_encoder.fit_transform(l_train[col].values.reshape(-1,1))\n",
    "    l_test[col] = ord_encoder.transform(l_test[col].values.reshape(-1,1))\n",
    "\n",
    "OH_train = pd.DataFrame(OH_encoder.fit_transform(new_train[categorical_cols_not_ord]))\n",
    "OH_test = pd.DataFrame(OH_encoder.transform(new_test[categorical_cols_not_ord]))\n",
    "\n",
    "# One-hot encoding removed index; put it back\n",
    "OH_train.index = new_train.index\n",
    "OH_test.index = new_test.index\n",
    "\n",
    "print(l_train.shape)\n",
    "print(OH_test.shape)"
   ]
  },
  {
   "cell_type": "code",
   "execution_count": 16,
   "metadata": {},
   "outputs": [
    {
     "name": "stdout",
     "output_type": "stream",
     "text": [
      "(1460, 216)\n",
      "(1459, 216)\n"
     ]
    }
   ],
   "source": [
    "# Remove categorical columns (will replace with one-hot encoding)\n",
    "last_train = new_train.drop(categorical_cols, axis=1)\n",
    "last_test = new_test.drop(categorical_cols, axis=1)\n",
    "\n",
    "# Add one-hot encoded columns to numerical features\n",
    "last_train = pd.concat([last_train,l_train, OH_train], axis=1)\n",
    "last_test = pd.concat([last_test,l_test, OH_test], axis=1)\n",
    "\n",
    "#Last dataframe for train model\n",
    "print(last_train.shape)\n",
    "print(last_test.shape)"
   ]
  },
  {
   "cell_type": "markdown",
   "metadata": {},
   "source": [
    "##### Split categorical and numerical data"
   ]
  },
  {
   "cell_type": "code",
   "execution_count": 17,
   "metadata": {},
   "outputs": [
    {
     "name": "stdout",
     "output_type": "stream",
     "text": [
      "(1095, 216)\n",
      "(1095,)\n",
      "(365, 216)\n",
      "(365,)\n"
     ]
    },
    {
     "data": {
      "text/html": [
       "<div>\n",
       "<style scoped>\n",
       "    .dataframe tbody tr th:only-of-type {\n",
       "        vertical-align: middle;\n",
       "    }\n",
       "\n",
       "    .dataframe tbody tr th {\n",
       "        vertical-align: top;\n",
       "    }\n",
       "\n",
       "    .dataframe thead th {\n",
       "        text-align: right;\n",
       "    }\n",
       "</style>\n",
       "<table border=\"1\" class=\"dataframe\">\n",
       "  <thead>\n",
       "    <tr style=\"text-align: right;\">\n",
       "      <th></th>\n",
       "      <th>MSSubClass</th>\n",
       "      <th>LotArea</th>\n",
       "      <th>OverallQual</th>\n",
       "      <th>OverallCond</th>\n",
       "      <th>YearBuilt</th>\n",
       "      <th>YearRemodAdd</th>\n",
       "      <th>1stFlrSF</th>\n",
       "      <th>2ndFlrSF</th>\n",
       "      <th>LowQualFinSF</th>\n",
       "      <th>GrLivArea</th>\n",
       "      <th>...</th>\n",
       "      <th>153</th>\n",
       "      <th>154</th>\n",
       "      <th>155</th>\n",
       "      <th>156</th>\n",
       "      <th>157</th>\n",
       "      <th>158</th>\n",
       "      <th>159</th>\n",
       "      <th>160</th>\n",
       "      <th>161</th>\n",
       "      <th>162</th>\n",
       "    </tr>\n",
       "    <tr>\n",
       "      <th>Id</th>\n",
       "      <th></th>\n",
       "      <th></th>\n",
       "      <th></th>\n",
       "      <th></th>\n",
       "      <th></th>\n",
       "      <th></th>\n",
       "      <th></th>\n",
       "      <th></th>\n",
       "      <th></th>\n",
       "      <th></th>\n",
       "      <th></th>\n",
       "      <th></th>\n",
       "      <th></th>\n",
       "      <th></th>\n",
       "      <th></th>\n",
       "      <th></th>\n",
       "      <th></th>\n",
       "      <th></th>\n",
       "      <th></th>\n",
       "      <th></th>\n",
       "      <th></th>\n",
       "    </tr>\n",
       "  </thead>\n",
       "  <tbody>\n",
       "    <tr>\n",
       "      <th>7</th>\n",
       "      <td>20</td>\n",
       "      <td>10084</td>\n",
       "      <td>8</td>\n",
       "      <td>5</td>\n",
       "      <td>2004</td>\n",
       "      <td>2005</td>\n",
       "      <td>1694</td>\n",
       "      <td>0</td>\n",
       "      <td>0</td>\n",
       "      <td>1694</td>\n",
       "      <td>...</td>\n",
       "      <td>0.0</td>\n",
       "      <td>0.0</td>\n",
       "      <td>0.0</td>\n",
       "      <td>1.0</td>\n",
       "      <td>0.0</td>\n",
       "      <td>0.0</td>\n",
       "      <td>0.0</td>\n",
       "      <td>0.0</td>\n",
       "      <td>1.0</td>\n",
       "      <td>0.0</td>\n",
       "    </tr>\n",
       "    <tr>\n",
       "      <th>808</th>\n",
       "      <td>70</td>\n",
       "      <td>21384</td>\n",
       "      <td>5</td>\n",
       "      <td>6</td>\n",
       "      <td>1923</td>\n",
       "      <td>2004</td>\n",
       "      <td>1072</td>\n",
       "      <td>504</td>\n",
       "      <td>0</td>\n",
       "      <td>1576</td>\n",
       "      <td>...</td>\n",
       "      <td>0.0</td>\n",
       "      <td>0.0</td>\n",
       "      <td>0.0</td>\n",
       "      <td>1.0</td>\n",
       "      <td>0.0</td>\n",
       "      <td>0.0</td>\n",
       "      <td>0.0</td>\n",
       "      <td>0.0</td>\n",
       "      <td>1.0</td>\n",
       "      <td>0.0</td>\n",
       "    </tr>\n",
       "    <tr>\n",
       "      <th>956</th>\n",
       "      <td>90</td>\n",
       "      <td>7136</td>\n",
       "      <td>6</td>\n",
       "      <td>6</td>\n",
       "      <td>1946</td>\n",
       "      <td>1950</td>\n",
       "      <td>979</td>\n",
       "      <td>979</td>\n",
       "      <td>0</td>\n",
       "      <td>1958</td>\n",
       "      <td>...</td>\n",
       "      <td>0.0</td>\n",
       "      <td>0.0</td>\n",
       "      <td>0.0</td>\n",
       "      <td>1.0</td>\n",
       "      <td>0.0</td>\n",
       "      <td>0.0</td>\n",
       "      <td>0.0</td>\n",
       "      <td>0.0</td>\n",
       "      <td>1.0</td>\n",
       "      <td>0.0</td>\n",
       "    </tr>\n",
       "    <tr>\n",
       "      <th>1041</th>\n",
       "      <td>20</td>\n",
       "      <td>13125</td>\n",
       "      <td>5</td>\n",
       "      <td>4</td>\n",
       "      <td>1957</td>\n",
       "      <td>2000</td>\n",
       "      <td>1803</td>\n",
       "      <td>0</td>\n",
       "      <td>0</td>\n",
       "      <td>1803</td>\n",
       "      <td>...</td>\n",
       "      <td>0.0</td>\n",
       "      <td>0.0</td>\n",
       "      <td>0.0</td>\n",
       "      <td>1.0</td>\n",
       "      <td>0.0</td>\n",
       "      <td>0.0</td>\n",
       "      <td>0.0</td>\n",
       "      <td>0.0</td>\n",
       "      <td>1.0</td>\n",
       "      <td>0.0</td>\n",
       "    </tr>\n",
       "    <tr>\n",
       "      <th>702</th>\n",
       "      <td>20</td>\n",
       "      <td>9600</td>\n",
       "      <td>7</td>\n",
       "      <td>5</td>\n",
       "      <td>1969</td>\n",
       "      <td>1969</td>\n",
       "      <td>1164</td>\n",
       "      <td>0</td>\n",
       "      <td>0</td>\n",
       "      <td>1164</td>\n",
       "      <td>...</td>\n",
       "      <td>0.0</td>\n",
       "      <td>0.0</td>\n",
       "      <td>0.0</td>\n",
       "      <td>0.0</td>\n",
       "      <td>0.0</td>\n",
       "      <td>0.0</td>\n",
       "      <td>0.0</td>\n",
       "      <td>0.0</td>\n",
       "      <td>1.0</td>\n",
       "      <td>0.0</td>\n",
       "    </tr>\n",
       "  </tbody>\n",
       "</table>\n",
       "<p>5 rows × 216 columns</p>\n",
       "</div>"
      ],
      "text/plain": [
       "      MSSubClass  LotArea  OverallQual  OverallCond  YearBuilt  YearRemodAdd  \\\n",
       "Id                                                                             \n",
       "7             20    10084            8            5       2004          2005   \n",
       "808           70    21384            5            6       1923          2004   \n",
       "956           90     7136            6            6       1946          1950   \n",
       "1041          20    13125            5            4       1957          2000   \n",
       "702           20     9600            7            5       1969          1969   \n",
       "\n",
       "      1stFlrSF  2ndFlrSF  LowQualFinSF  GrLivArea  ...  153  154  155  156  \\\n",
       "Id                                                 ...                       \n",
       "7         1694         0             0       1694  ...  0.0  0.0  0.0  1.0   \n",
       "808       1072       504             0       1576  ...  0.0  0.0  0.0  1.0   \n",
       "956        979       979             0       1958  ...  0.0  0.0  0.0  1.0   \n",
       "1041      1803         0             0       1803  ...  0.0  0.0  0.0  1.0   \n",
       "702       1164         0             0       1164  ...  0.0  0.0  0.0  0.0   \n",
       "\n",
       "      157  158  159  160  161  162  \n",
       "Id                                  \n",
       "7     0.0  0.0  0.0  0.0  1.0  0.0  \n",
       "808   0.0  0.0  0.0  0.0  1.0  0.0  \n",
       "956   0.0  0.0  0.0  0.0  1.0  0.0  \n",
       "1041  0.0  0.0  0.0  0.0  1.0  0.0  \n",
       "702   0.0  0.0  0.0  0.0  1.0  0.0  \n",
       "\n",
       "[5 rows x 216 columns]"
      ]
     },
     "execution_count": 17,
     "metadata": {},
     "output_type": "execute_result"
    }
   ],
   "source": [
    "#Split train data in test and train datasets\n",
    "X_train,X_test,y_train,y_test = train_test_split(last_train,\n",
    "                                                 y,\n",
    "                                                 train_size = 0.75, #75% of data for training\n",
    "                                                 test_size = 0.25, #25% of data for testing\n",
    "                                                 random_state = 1) \n",
    "\n",
    "print(X_train.shape)\n",
    "print(y_train.shape)\n",
    "\n",
    "print(X_test.shape)\n",
    "print(y_test.shape)\n",
    "\n",
    "X_train.head()"
   ]
  },
  {
   "cell_type": "markdown",
   "metadata": {},
   "source": [
    "##### Machine learning model"
   ]
  },
  {
   "cell_type": "code",
   "execution_count": 18,
   "metadata": {},
   "outputs": [],
   "source": [
    "#In first intance, use Random forest regressor\n",
    "def rfr_model_error(X_train,X_test,y_train,y_test):\n",
    "    rfr = RandomForestRegressor(n_estimators=160,random_state=1)\n",
    "    rfr.fit(X_train,y_train)\n",
    "    prediction = rfr.predict(X_test)\n",
    "    return np.sqrt(mean_squared_error(prediction,y_test))"
   ]
  },
  {
   "cell_type": "code",
   "execution_count": 19,
   "metadata": {},
   "outputs": [],
   "source": [
    "def lr_model_error(X_train,X_test,y_train,y_test):\n",
    "    lr = LinearRegression()\n",
    "    lr.fit(X_train,y_train)\n",
    "    prediction = lr.predict(X_test)\n",
    "    \n",
    "    return np.sqrt(mean_squared_error(prediction,y_test))"
   ]
  },
  {
   "cell_type": "code",
   "execution_count": 20,
   "metadata": {},
   "outputs": [],
   "source": [
    "def knr_model_error(X_train,X_test,y_train,y_test):\n",
    "    knr = KNeighborsRegressor()\n",
    "    knr.fit(X_train,y_train)\n",
    "    prediction = knr.predict(X_test)\n",
    "    \n",
    "    return np.sqrt(mean_squared_error(prediction,y_test))"
   ]
  },
  {
   "cell_type": "code",
   "execution_count": 21,
   "metadata": {},
   "outputs": [],
   "source": [
    "def dtr_model_error(X_train,X_test,y_train,y_test):\n",
    "    dtr = DecisionTreeRegressor()\n",
    "    dtr.fit(X_train,y_train)\n",
    "    prediction = dtr.predict(X_test)\n",
    "    \n",
    "    return np.sqrt(mean_squared_error(prediction,y_test))"
   ]
  },
  {
   "cell_type": "code",
   "execution_count": 22,
   "metadata": {},
   "outputs": [
    {
     "name": "stdout",
     "output_type": "stream",
     "text": [
      "25991.073543261937\n",
      "29803.964941779413\n",
      "49596.74371034001\n",
      "45930.05978656309\n"
     ]
    }
   ],
   "source": [
    "print(rfr_model_error(X_train,X_test,y_train,y_test))\n",
    "print(lr_model_error(X_train,X_test,y_train,y_test))\n",
    "print(knr_model_error(X_train,X_test,y_train,y_test))\n",
    "print(dtr_model_error(X_train,X_test,y_train,y_test))"
   ]
  },
  {
   "cell_type": "markdown",
   "metadata": {},
   "source": [
    "### Pre-processing (Pipeline)"
   ]
  },
  {
   "cell_type": "code",
   "execution_count": 24,
   "metadata": {},
   "outputs": [
    {
     "name": "stdout",
     "output_type": "stream",
     "text": [
      "(1095, 73)\n",
      "(1095,)\n",
      "(365, 73)\n",
      "(365,)\n"
     ]
    }
   ],
   "source": [
    "#Split train data in test and train datasets\n",
    "X_train,X_test,y_train,y_test = train_test_split(train,\n",
    "                                                 y,\n",
    "                                                 train_size = 0.75, #75% of data for training\n",
    "                                                 test_size = 0.25, #25% of data for testing\n",
    "                                                 random_state = 1) \n",
    "\n",
    "print(X_train.shape)\n",
    "print(y_train.shape)\n",
    "\n",
    "print(X_test.shape)\n",
    "print(y_test.shape)"
   ]
  },
  {
   "cell_type": "code",
   "execution_count": 25,
   "metadata": {},
   "outputs": [
    {
     "data": {
      "text/plain": [
       "26807.804890596624"
      ]
     },
     "execution_count": 25,
     "metadata": {},
     "output_type": "execute_result"
    }
   ],
   "source": [
    "#For categorical data\n",
    "pre_categorical_data_MF = Pipeline(steps = [('imputer',SimpleImputer(strategy= 'most_frequent')),\n",
    "                                            ('separte columns', OneHotEncoder(handle_unknown='ignore',sparse = False))])\n",
    "\n",
    "pre_categorical_data_NA = Pipeline(steps = [('imputer',SimpleImputer(strategy= 'constant',fill_value='NA')),\n",
    "                                            ('separte columns', OneHotEncoder(handle_unknown='ignore',sparse = False))])\n",
    "#Preprocess both data types\n",
    "\n",
    "pre_data = ColumnTransformer(transformers=[('numerical by 0',SimpleImputer(strategy= 'constant',fill_value=0),num_col_replace_by_0),\n",
    "                                           ('numerical by mean',SimpleImputer(strategy= 'mean'),num_col_replace_by_mean),\n",
    "                                           ('categorical by MF',pre_categorical_data_MF,cat_col_replace_by_MF),\n",
    "                                           ('categorical by NA',pre_categorical_data_NA,cat_col_replace_by_NA)\n",
    "                                          ],remainder='passthrough')\n",
    "                                   \n",
    "#Define model\n",
    "rfr_model = RandomForestRegressor(n_estimators=100,random_state=1)\n",
    "\n",
    "#Create pipeline\n",
    "my_pipeline = Pipeline(steps = [('pre-processing num',pre_data),\n",
    "                                ('ML model',rfr_model)])\n",
    "#Train model\n",
    "my_pipeline.fit(X_train,y_train)\n",
    "\n",
    "#Make prediction\n",
    "pl_prediction = my_pipeline.predict(X_test)\n",
    "\n",
    "#valuate model\n",
    "np.sqrt(mean_squared_error(pl_prediction,y_test))"
   ]
  },
  {
   "cell_type": "markdown",
   "metadata": {},
   "source": [
    "### Cross validation"
   ]
  },
  {
   "cell_type": "code",
   "execution_count": 107,
   "metadata": {},
   "outputs": [
    {
     "name": "stdout",
     "output_type": "stream",
     "text": [
      "[26974.78707243 31798.89252355 30943.66378113 24329.26841712\n",
      " 36179.86931818]\n",
      "30045.296222484216\n"
     ]
    }
   ],
   "source": [
    "#Calculate error with cross validation\n",
    "scores = -1*cross_val_score(my_pipeline,\n",
    "                            train,\n",
    "                            y,\n",
    "                            cv= 5,\n",
    "                            scoring='neg_root_mean_squared_error')\n",
    "print(scores)\n",
    "print(scores.mean())"
   ]
  },
  {
   "cell_type": "code",
   "execution_count": 108,
   "metadata": {},
   "outputs": [],
   "source": [
    "#determinate the best number estimation fot the Random forest regressor model\n",
    "def get_score(n_estimators):\n",
    "    my_pipeline = Pipeline(steps = [('pre-processing',pre_data),\n",
    "                                ('ML model',RandomForestRegressor(n_estimators=n_estimators,random_state=1))])\n",
    "    \n",
    "    my_score = -1 * cross_val_score(my_pipeline,train,y,cv= 5,scoring='neg_root_mean_squared_error')\n",
    "    return (my_score.mean())"
   ]
  },
  {
   "cell_type": "code",
   "execution_count": 109,
   "metadata": {},
   "outputs": [
    {
     "data": {
      "image/png": "[encoded data removed]",
      "text/plain": [
       "<Figure size 432x288 with 1 Axes>"
      ]
     },
     "metadata": {
      "needs_background": "light"
     },
     "output_type": "display_data"
    }
   ],
   "source": [
    "#Validate the best solution\n",
    "results = {}\n",
    "for i in range(1,5):\n",
    "    results[50*i] = get_score(50*i)\n",
    "    \n",
    "plt.plot(list(results.keys()), list(results.values()))\n",
    "plt.show()"
   ]
  },
  {
   "cell_type": "code",
   "execution_count": 110,
   "metadata": {},
   "outputs": [],
   "source": [
    "#the best n_estimators is 150\n",
    "my_pipeline = Pipeline(steps = [('pre-processing',pre_data),\n",
    "                                ('ML model',RandomForestRegressor(n_estimators=150,random_state=1))])\n",
    "\n",
    "#Train model\n",
    "my_pipeline.fit(train,y)\n",
    "\n",
    "#Make prediction\n",
    "pl_prediction = my_pipeline.predict(test)\n",
    "\n",
    "output = pd.DataFrame({'Id': test.index,\n",
    "                       'SalePrice': pl_prediction})\n",
    "output.to_csv('submission.csv', index=False)"
   ]
  },
  {
   "cell_type": "markdown",
   "metadata": {},
   "source": [
    "##### Submit prediction"
   ]
  },
  {
   "cell_type": "code",
   "execution_count": 23,
   "metadata": {},
   "outputs": [],
   "source": [
    "rfr = RandomForestRegressor(n_estimators=150,random_state=1)\n",
    "rfr.fit(last_train,y)\n",
    "prediction = rfr.predict(last_test)\n",
    "\n",
    "output = pd.DataFrame({'Id': test.index,\n",
    "                       'SalePrice': prediction})\n",
    "output.to_csv('submission.csv', index=False)"
   ]
  }
 ],
 "metadata": {
  "kernelspec": {
   "display_name": "Python 3",
   "language": "python",
   "name": "python3"
  },
  "language_info": {
   "codemirror_mode": {
    "name": "ipython",
    "version": 3
   },
   "file_extension": ".py",
   "mimetype": "text/x-python",
   "name": "python",
   "nbconvert_exporter": "python",
   "pygments_lexer": "ipython3",
   "version": "3.7.3"
  }
 },
 "nbformat": 4,
 "nbformat_minor": 4
}
